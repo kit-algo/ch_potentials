{
 "cells": [
  {
   "cell_type": "code",
   "execution_count": 1,
   "id": "549d4759-62ba-4b37-bb59-3cfb396814ba",
   "metadata": {},
   "outputs": [],
   "source": [
    "import pandas as pd\n",
    "\n",
    "import json\n",
    "import glob\n",
    "import os\n",
    "import re"
   ]
  },
  {
   "cell_type": "code",
   "execution_count": 2,
   "id": "611e787b-ba03-47c2-a955-e2e59b6b6c5b",
   "metadata": {},
   "outputs": [],
   "source": [
    "base = \"../exp/\"\n",
    "paths = glob.glob(base + \"alternatives/*.json\")\n",
    "data = [json.load(open(path)) for path in paths]\n",
    "\n",
    "def path_to_graph(path):\n",
    "    return {\n",
    "        'osm_europe': 'OSM Eur',\n",
    "        'osm_ger': 'OSM Ger',\n",
    "        'europe': 'DIMACs Eur',\n",
    "    }[[x for x in path.split('/') if x != ''][-1]]"
   ]
  },
  {
   "cell_type": "code",
   "execution_count": 11,
   "id": "5159816b-d7ff-4a37-96f5-7ccfd5617c85",
   "metadata": {},
   "outputs": [],
   "source": [
    "queries = pd.DataFrame.from_records([{ \n",
    "    **algo,\n",
    "    'graph': path_to_graph(run['args'][1])\n",
    "} for run in data for algo in run['algo_runs'][1:] if run['program'] == 'chpot_penalty_iterative'])"
   ]
  },
  {
   "cell_type": "code",
   "execution_count": 12,
   "id": "b1a1e6cb-63be-4c5b-bdce-5855ba67a66a",
   "metadata": {},
   "outputs": [
    {
     "data": {
      "text/html": [
       "<div>\n",
       "<style scoped>\n",
       "    .dataframe tbody tr th:only-of-type {\n",
       "        vertical-align: middle;\n",
       "    }\n",
       "\n",
       "    .dataframe tbody tr th {\n",
       "        vertical-align: top;\n",
       "    }\n",
       "\n",
       "    .dataframe thead th {\n",
       "        text-align: right;\n",
       "    }\n",
       "</style>\n",
       "<table border=\"1\" class=\"dataframe\">\n",
       "  <thead>\n",
       "    <tr style=\"text-align: right;\">\n",
       "      <th></th>\n",
       "      <th>running_time_ms</th>\n",
       "      <th>ubs</th>\n",
       "      <th>local_optimality_percent</th>\n",
       "      <th>sharing_percent</th>\n",
       "      <th>num_iterations</th>\n",
       "    </tr>\n",
       "    <tr>\n",
       "      <th>graph</th>\n",
       "      <th></th>\n",
       "      <th></th>\n",
       "      <th></th>\n",
       "      <th></th>\n",
       "      <th></th>\n",
       "    </tr>\n",
       "  </thead>\n",
       "  <tbody>\n",
       "    <tr>\n",
       "      <th>DIMACs Eur</th>\n",
       "      <td>156.224979</td>\n",
       "      <td>1.090049</td>\n",
       "      <td>21.189509</td>\n",
       "      <td>41.975635</td>\n",
       "      <td>1.4426</td>\n",
       "    </tr>\n",
       "    <tr>\n",
       "      <th>OSM Ger</th>\n",
       "      <td>65.706537</td>\n",
       "      <td>1.091245</td>\n",
       "      <td>29.898156</td>\n",
       "      <td>34.693236</td>\n",
       "      <td>1.6427</td>\n",
       "    </tr>\n",
       "  </tbody>\n",
       "</table>\n",
       "</div>"
      ],
      "text/plain": [
       "            running_time_ms       ubs  local_optimality_percent  \\\n",
       "graph                                                             \n",
       "DIMACs Eur       156.224979  1.090049                 21.189509   \n",
       "OSM Ger           65.706537  1.091245                 29.898156   \n",
       "\n",
       "            sharing_percent  num_iterations  \n",
       "graph                                        \n",
       "DIMACs Eur        41.975635          1.4426  \n",
       "OSM Ger           34.693236          1.6427  "
      ]
     },
     "execution_count": 12,
     "metadata": {},
     "output_type": "execute_result"
    }
   ],
   "source": [
    "queries.groupby('graph').mean()[['running_time_ms', 'ubs', 'local_optimality_percent', 'sharing_percent', 'num_iterations']]"
   ]
  },
  {
   "cell_type": "code",
   "execution_count": 5,
   "id": "5fb8463a-a176-499f-9f61-079f4958146c",
   "metadata": {},
   "outputs": [
    {
     "data": {
      "text/html": [
       "<div>\n",
       "<style scoped>\n",
       "    .dataframe tbody tr th:only-of-type {\n",
       "        vertical-align: middle;\n",
       "    }\n",
       "\n",
       "    .dataframe tbody tr th {\n",
       "        vertical-align: top;\n",
       "    }\n",
       "\n",
       "    .dataframe thead th {\n",
       "        text-align: right;\n",
       "    }\n",
       "</style>\n",
       "<table border=\"1\" class=\"dataframe\">\n",
       "  <thead>\n",
       "    <tr style=\"text-align: right;\">\n",
       "      <th></th>\n",
       "      <th>count</th>\n",
       "      <th>unique</th>\n",
       "      <th>top</th>\n",
       "      <th>freq</th>\n",
       "    </tr>\n",
       "    <tr>\n",
       "      <th>graph</th>\n",
       "      <th></th>\n",
       "      <th></th>\n",
       "      <th></th>\n",
       "      <th></th>\n",
       "    </tr>\n",
       "  </thead>\n",
       "  <tbody>\n",
       "    <tr>\n",
       "      <th>DIMACs Eur</th>\n",
       "      <td>10000</td>\n",
       "      <td>2</td>\n",
       "      <td>True</td>\n",
       "      <td>9686</td>\n",
       "    </tr>\n",
       "    <tr>\n",
       "      <th>OSM Ger</th>\n",
       "      <td>10000</td>\n",
       "      <td>2</td>\n",
       "      <td>True</td>\n",
       "      <td>9447</td>\n",
       "    </tr>\n",
       "  </tbody>\n",
       "</table>\n",
       "</div>"
      ],
      "text/plain": [
       "            count unique   top  freq\n",
       "graph                               \n",
       "DIMACs Eur  10000      2  True  9686\n",
       "OSM Ger     10000      2  True  9447"
      ]
     },
     "execution_count": 5,
     "metadata": {},
     "output_type": "execute_result"
    }
   ],
   "source": [
    "queries.groupby('graph')['success'].describe()"
   ]
  },
  {
   "cell_type": "code",
   "execution_count": 6,
   "id": "b5cf18b4-d9bd-4015-b7b7-c0d56967d5ad",
   "metadata": {},
   "outputs": [],
   "source": [
    "queries = pd.DataFrame.from_records([{ \n",
    "    **algo,\n",
    "    'graph': path_to_graph(run['args'][1])\n",
    "} for run in data for algo in run['algo_runs'] if run['program'] == 'chpot_penalty'])"
   ]
  },
  {
   "cell_type": "code",
   "execution_count": 8,
   "id": "c94867e1-b3e9-4b11-86a8-630c3054336d",
   "metadata": {},
   "outputs": [],
   "source": [
    "queries['success'] = queries['total_dist'] > 1"
   ]
  },
  {
   "cell_type": "code",
   "execution_count": 7,
   "id": "e186d772-806a-4aea-ac90-960ca9607739",
   "metadata": {},
   "outputs": [
    {
     "data": {
      "text/html": [
       "<div>\n",
       "<style scoped>\n",
       "    .dataframe tbody tr th:only-of-type {\n",
       "        vertical-align: middle;\n",
       "    }\n",
       "\n",
       "    .dataframe tbody tr th {\n",
       "        vertical-align: top;\n",
       "    }\n",
       "\n",
       "    .dataframe thead th {\n",
       "        text-align: right;\n",
       "    }\n",
       "</style>\n",
       "<table border=\"1\" class=\"dataframe\">\n",
       "  <thead>\n",
       "    <tr style=\"text-align: right;\">\n",
       "      <th></th>\n",
       "      <th>running_time_ms</th>\n",
       "      <th>total_dist</th>\n",
       "      <th>avg_dist</th>\n",
       "      <th>decision_edges</th>\n",
       "      <th>num_iterations</th>\n",
       "    </tr>\n",
       "    <tr>\n",
       "      <th>graph</th>\n",
       "      <th></th>\n",
       "      <th></th>\n",
       "      <th></th>\n",
       "      <th></th>\n",
       "      <th></th>\n",
       "    </tr>\n",
       "  </thead>\n",
       "  <tbody>\n",
       "    <tr>\n",
       "      <th>DIMACs Eur</th>\n",
       "      <td>1373.520242</td>\n",
       "      <td>2.932898</td>\n",
       "      <td>1.044595</td>\n",
       "      <td>5.5667</td>\n",
       "      <td>6.7108</td>\n",
       "    </tr>\n",
       "    <tr>\n",
       "      <th>OSM Ger</th>\n",
       "      <td>854.267563</td>\n",
       "      <td>2.976206</td>\n",
       "      <td>1.052681</td>\n",
       "      <td>5.1136</td>\n",
       "      <td>6.8531</td>\n",
       "    </tr>\n",
       "  </tbody>\n",
       "</table>\n",
       "</div>"
      ],
      "text/plain": [
       "            running_time_ms  total_dist  avg_dist  decision_edges  \\\n",
       "graph                                                               \n",
       "DIMACs Eur      1373.520242    2.932898  1.044595          5.5667   \n",
       "OSM Ger          854.267563    2.976206  1.052681          5.1136   \n",
       "\n",
       "            num_iterations  \n",
       "graph                       \n",
       "DIMACs Eur          6.7108  \n",
       "OSM Ger             6.8531  "
      ]
     },
     "execution_count": 7,
     "metadata": {},
     "output_type": "execute_result"
    }
   ],
   "source": [
    "queries.groupby('graph').mean()[['running_time_ms', 'total_dist', 'avg_dist', 'decision_edges', 'num_iterations']]"
   ]
  },
  {
   "cell_type": "code",
   "execution_count": 9,
   "id": "f6506002-5b69-4e6a-8574-5f9ebd0d61a1",
   "metadata": {},
   "outputs": [
    {
     "data": {
      "text/html": [
       "<div>\n",
       "<style scoped>\n",
       "    .dataframe tbody tr th:only-of-type {\n",
       "        vertical-align: middle;\n",
       "    }\n",
       "\n",
       "    .dataframe tbody tr th {\n",
       "        vertical-align: top;\n",
       "    }\n",
       "\n",
       "    .dataframe thead th {\n",
       "        text-align: right;\n",
       "    }\n",
       "</style>\n",
       "<table border=\"1\" class=\"dataframe\">\n",
       "  <thead>\n",
       "    <tr style=\"text-align: right;\">\n",
       "      <th></th>\n",
       "      <th>count</th>\n",
       "      <th>unique</th>\n",
       "      <th>top</th>\n",
       "      <th>freq</th>\n",
       "    </tr>\n",
       "    <tr>\n",
       "      <th>graph</th>\n",
       "      <th></th>\n",
       "      <th></th>\n",
       "      <th></th>\n",
       "      <th></th>\n",
       "    </tr>\n",
       "  </thead>\n",
       "  <tbody>\n",
       "    <tr>\n",
       "      <th>DIMACs Eur</th>\n",
       "      <td>10001</td>\n",
       "      <td>2</td>\n",
       "      <td>True</td>\n",
       "      <td>9871</td>\n",
       "    </tr>\n",
       "    <tr>\n",
       "      <th>OSM Ger</th>\n",
       "      <td>10001</td>\n",
       "      <td>2</td>\n",
       "      <td>True</td>\n",
       "      <td>9811</td>\n",
       "    </tr>\n",
       "  </tbody>\n",
       "</table>\n",
       "</div>"
      ],
      "text/plain": [
       "            count unique   top  freq\n",
       "graph                               \n",
       "DIMACs Eur  10001      2  True  9871\n",
       "OSM Ger     10001      2  True  9811"
      ]
     },
     "execution_count": 9,
     "metadata": {},
     "output_type": "execute_result"
    }
   ],
   "source": [
    "queries.groupby('graph')['success'].describe()"
   ]
  }
 ],
 "metadata": {
  "kernelspec": {
   "display_name": "Python 3 (ipykernel)",
   "language": "python",
   "name": "python3"
  },
  "language_info": {
   "codemirror_mode": {
    "name": "ipython",
    "version": 3
   },
   "file_extension": ".py",
   "mimetype": "text/x-python",
   "name": "python",
   "nbconvert_exporter": "python",
   "pygments_lexer": "ipython3",
   "version": "3.9.7"
  }
 },
 "nbformat": 4,
 "nbformat_minor": 5
}
