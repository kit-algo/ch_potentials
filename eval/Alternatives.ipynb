{
 "cells": [
  {
   "cell_type": "code",
   "execution_count": 1,
   "id": "549d4759-62ba-4b37-bb59-3cfb396814ba",
   "metadata": {},
   "outputs": [],
   "source": [
    "import pandas as pd\n",
    "\n",
    "import json\n",
    "import glob\n",
    "import os\n",
    "import re"
   ]
  },
  {
   "cell_type": "code",
   "execution_count": 2,
   "id": "611e787b-ba03-47c2-a955-e2e59b6b6c5b",
   "metadata": {},
   "outputs": [],
   "source": [
    "base = \"../exp/\"\n",
    "paths = glob.glob(base + \"alternatives/*.json\")\n",
    "data = [json.load(open(path)) for path in paths]\n",
    "\n",
    "def path_to_graph(path):\n",
    "    return {\n",
    "        'ger06': 'TDGer06',\n",
    "        'ptv17': 'TDEur17',\n",
    "        'ptv20': 'TDEur20',\n",
    "        'osm_europe': 'OSM Europe',\n",
    "        'osm_ger': 'OSM Ger',\n",
    "        'osm_ger_td': 'OSM Ger',\n",
    "        'europe': 'DIMACs Eur',\n",
    "    }[[x for x in path.split('/') if x != ''][-1]]"
   ]
  },
  {
   "cell_type": "code",
   "execution_count": null,
   "id": "5159816b-d7ff-4a37-96f5-7ccfd5617c85",
   "metadata": {},
   "outputs": [],
   "source": []
  }
 ],
 "metadata": {
  "kernelspec": {
   "display_name": "Python 3 (ipykernel)",
   "language": "python",
   "name": "python3"
  },
  "language_info": {
   "codemirror_mode": {
    "name": "ipython",
    "version": 3
   },
   "file_extension": ".py",
   "mimetype": "text/x-python",
   "name": "python",
   "nbconvert_exporter": "python",
   "pygments_lexer": "ipython3",
   "version": "3.9.7"
  }
 },
 "nbformat": 4,
 "nbformat_minor": 5
}
