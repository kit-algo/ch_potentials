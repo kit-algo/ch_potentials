{
 "cells": [
  {
   "cell_type": "code",
   "execution_count": 1,
   "metadata": {},
   "outputs": [],
   "source": [
    "import pandas as pd\n",
    "\n",
    "import json\n",
    "import glob\n",
    "import os"
   ]
  },
  {
   "cell_type": "code",
   "execution_count": 2,
   "metadata": {},
   "outputs": [],
   "source": [
    "base = \"/amd.home/home/i11/zeitz/experiments/chpot/\"\n",
    "paths = glob.glob(base + \"building_blocks/*.json\")\n",
    "data = [json.load(open(path)) for path in paths]"
   ]
  },
  {
   "cell_type": "code",
   "execution_count": 3,
   "metadata": {},
   "outputs": [],
   "source": [
    "queries = pd.DataFrame.from_records([{ \n",
    "    'features': run['feature_flags'].replace('DEFAULT, TDCCH_APPROX, TDCCH_POSTCUSTOMIZATION, TDCCH_PRECUSTOMIZATION, TDCCH_QUERY_ASTAR, TDCCH_TRIANGLE_SORTING', ''), \n",
    "    **algo } \n",
    "    for run in data for exp in run.get('experiments', []) for algo in exp['algo_runs'] if algo.get('algo') == 'CH Potentials Query'])"
   ]
  },
  {
   "cell_type": "code",
   "execution_count": 4,
   "metadata": {},
   "outputs": [
    {
     "data": {
      "text/plain": [
       "Index(['features', 'algo', 'from', 'lower_bound', 'num_pot_evals',\n",
       "       'num_queue_pops', 'num_relaxed_arcs', 'result', 'running_time_ms',\n",
       "       'to'],\n",
       "      dtype='object')"
      ]
     },
     "execution_count": 4,
     "metadata": {},
     "output_type": "execute_result"
    }
   ],
   "source": [
    "queries.columns"
   ]
  },
  {
   "cell_type": "code",
   "execution_count": 5,
   "metadata": {},
   "outputs": [
    {
     "name": "stdout",
     "output_type": "stream",
     "text": [
      "\\begin{tabular}{lrrr}\n",
      "\\toprule\n",
      "{} &  running\\_time\\_ms &  num\\_queue\\_pops &  num\\_relaxed\\_arcs \\\\\n",
      "features                                           &                  &                 &                   \\\\\n",
      "\\midrule\n",
      "                                                   &       264.243967 &      404.747802 &          2.025657 \\\\\n",
      "CHPOT\\_NO\\_DEG2, CHPOT\\_NO\\_DEG3,                      &       385.966340 &      822.944687 &          2.278133 \\\\\n",
      "CHPOT\\_NO\\_DEG2, CHPOT\\_NO\\_DEG3, CHPOT\\_NO\\_SCC,        &       433.076718 &      914.793945 &          2.525061 \\\\\n",
      "CHPOT\\_NO\\_DEG2, CHPOT\\_NO\\_DEG3, CHPOT\\_NO\\_SCC, CHP... &      1370.172339 &     6947.207974 &         19.232052 \\\\\n",
      "CHPOT\\_NO\\_DEG2, CHPOT\\_NO\\_DEG3, CHPOT\\_ONLY\\_TOPO,     &      1161.183556 &     6126.160896 &         17.031770 \\\\\n",
      "CHPOT\\_NO\\_DEG3,                                     &       332.243265 &      697.600302 &          2.187592 \\\\\n",
      "CHPOT\\_NO\\_DEG3, CHPOT\\_ONLY\\_TOPO,                    &      1046.580869 &     5130.096317 &         16.240890 \\\\\n",
      "CHPOT\\_ONLY\\_TOPO,                                   &       810.817544 &     2975.816681 &         14.852560 \\\\\n",
      "\\bottomrule\n",
      "\\end{tabular}\n",
      "\n"
     ]
    },
    {
     "data": {
      "text/html": [
       "<div>\n",
       "<style scoped>\n",
       "    .dataframe tbody tr th:only-of-type {\n",
       "        vertical-align: middle;\n",
       "    }\n",
       "\n",
       "    .dataframe tbody tr th {\n",
       "        vertical-align: top;\n",
       "    }\n",
       "\n",
       "    .dataframe thead th {\n",
       "        text-align: right;\n",
       "    }\n",
       "</style>\n",
       "<table border=\"1\" class=\"dataframe\">\n",
       "  <thead>\n",
       "    <tr style=\"text-align: right;\">\n",
       "      <th></th>\n",
       "      <th>running_time_ms</th>\n",
       "      <th>num_queue_pops</th>\n",
       "      <th>num_relaxed_arcs</th>\n",
       "    </tr>\n",
       "    <tr>\n",
       "      <th>features</th>\n",
       "      <th></th>\n",
       "      <th></th>\n",
       "      <th></th>\n",
       "    </tr>\n",
       "  </thead>\n",
       "  <tbody>\n",
       "    <tr>\n",
       "      <th></th>\n",
       "      <td>264.243967</td>\n",
       "      <td>404.747802</td>\n",
       "      <td>2.025657</td>\n",
       "    </tr>\n",
       "    <tr>\n",
       "      <th>CHPOT_NO_DEG2, CHPOT_NO_DEG3,</th>\n",
       "      <td>385.966340</td>\n",
       "      <td>822.944687</td>\n",
       "      <td>2.278133</td>\n",
       "    </tr>\n",
       "    <tr>\n",
       "      <th>CHPOT_NO_DEG2, CHPOT_NO_DEG3, CHPOT_NO_SCC,</th>\n",
       "      <td>433.076718</td>\n",
       "      <td>914.793945</td>\n",
       "      <td>2.525061</td>\n",
       "    </tr>\n",
       "    <tr>\n",
       "      <th>CHPOT_NO_DEG2, CHPOT_NO_DEG3, CHPOT_NO_SCC, CHPOT_ONLY_TOPO,</th>\n",
       "      <td>1370.172339</td>\n",
       "      <td>6947.207974</td>\n",
       "      <td>19.232052</td>\n",
       "    </tr>\n",
       "    <tr>\n",
       "      <th>CHPOT_NO_DEG2, CHPOT_NO_DEG3, CHPOT_ONLY_TOPO,</th>\n",
       "      <td>1161.183556</td>\n",
       "      <td>6126.160896</td>\n",
       "      <td>17.031770</td>\n",
       "    </tr>\n",
       "    <tr>\n",
       "      <th>CHPOT_NO_DEG3,</th>\n",
       "      <td>332.243265</td>\n",
       "      <td>697.600302</td>\n",
       "      <td>2.187592</td>\n",
       "    </tr>\n",
       "    <tr>\n",
       "      <th>CHPOT_NO_DEG3, CHPOT_ONLY_TOPO,</th>\n",
       "      <td>1046.580869</td>\n",
       "      <td>5130.096317</td>\n",
       "      <td>16.240890</td>\n",
       "    </tr>\n",
       "    <tr>\n",
       "      <th>CHPOT_ONLY_TOPO,</th>\n",
       "      <td>810.817544</td>\n",
       "      <td>2975.816681</td>\n",
       "      <td>14.852560</td>\n",
       "    </tr>\n",
       "  </tbody>\n",
       "</table>\n",
       "</div>"
      ],
      "text/plain": [
       "                                                    running_time_ms  \\\n",
       "features                                                              \n",
       "                                                         264.243967   \n",
       "CHPOT_NO_DEG2, CHPOT_NO_DEG3,                            385.966340   \n",
       "CHPOT_NO_DEG2, CHPOT_NO_DEG3, CHPOT_NO_SCC,              433.076718   \n",
       "CHPOT_NO_DEG2, CHPOT_NO_DEG3, CHPOT_NO_SCC, CHP...      1370.172339   \n",
       "CHPOT_NO_DEG2, CHPOT_NO_DEG3, CHPOT_ONLY_TOPO,          1161.183556   \n",
       "CHPOT_NO_DEG3,                                           332.243265   \n",
       "CHPOT_NO_DEG3, CHPOT_ONLY_TOPO,                         1046.580869   \n",
       "CHPOT_ONLY_TOPO,                                         810.817544   \n",
       "\n",
       "                                                    num_queue_pops  \\\n",
       "features                                                             \n",
       "                                                        404.747802   \n",
       "CHPOT_NO_DEG2, CHPOT_NO_DEG3,                           822.944687   \n",
       "CHPOT_NO_DEG2, CHPOT_NO_DEG3, CHPOT_NO_SCC,             914.793945   \n",
       "CHPOT_NO_DEG2, CHPOT_NO_DEG3, CHPOT_NO_SCC, CHP...     6947.207974   \n",
       "CHPOT_NO_DEG2, CHPOT_NO_DEG3, CHPOT_ONLY_TOPO,         6126.160896   \n",
       "CHPOT_NO_DEG3,                                          697.600302   \n",
       "CHPOT_NO_DEG3, CHPOT_ONLY_TOPO,                        5130.096317   \n",
       "CHPOT_ONLY_TOPO,                                       2975.816681   \n",
       "\n",
       "                                                    num_relaxed_arcs  \n",
       "features                                                              \n",
       "                                                            2.025657  \n",
       "CHPOT_NO_DEG2, CHPOT_NO_DEG3,                               2.278133  \n",
       "CHPOT_NO_DEG2, CHPOT_NO_DEG3, CHPOT_NO_SCC,                 2.525061  \n",
       "CHPOT_NO_DEG2, CHPOT_NO_DEG3, CHPOT_NO_SCC, CHP...         19.232052  \n",
       "CHPOT_NO_DEG2, CHPOT_NO_DEG3, CHPOT_ONLY_TOPO,             17.031770  \n",
       "CHPOT_NO_DEG3,                                              2.187592  \n",
       "CHPOT_NO_DEG3, CHPOT_ONLY_TOPO,                            16.240890  \n",
       "CHPOT_ONLY_TOPO,                                           14.852560  "
      ]
     },
     "execution_count": 5,
     "metadata": {},
     "output_type": "execute_result"
    }
   ],
   "source": [
    "table = queries.groupby('features')[['running_time_ms', 'num_queue_pops', 'num_relaxed_arcs']].mean()\n",
    "table['num_relaxed_arcs'] = table['num_relaxed_arcs'] / 1000000\n",
    "table['num_queue_pops'] = table['num_queue_pops'] / 1000\n",
    "print(table.to_latex())\n",
    "table"
   ]
  }
 ],
 "metadata": {
  "kernelspec": {
   "display_name": "Python 3",
   "language": "python",
   "name": "python3"
  },
  "language_info": {
   "codemirror_mode": {
    "name": "ipython",
    "version": 3
   },
   "file_extension": ".py",
   "mimetype": "text/x-python",
   "name": "python",
   "nbconvert_exporter": "python",
   "pygments_lexer": "ipython3",
   "version": "3.8.3"
  }
 },
 "nbformat": 4,
 "nbformat_minor": 4
}
