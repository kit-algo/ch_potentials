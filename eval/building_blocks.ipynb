{
 "cells": [
  {
   "cell_type": "code",
   "execution_count": 1,
   "metadata": {},
   "outputs": [],
   "source": [
    "import pandas as pd\n",
    "\n",
    "import json\n",
    "import glob\n",
    "import os"
   ]
  },
  {
   "cell_type": "code",
   "execution_count": 2,
   "metadata": {},
   "outputs": [],
   "source": [
    "base = \"/amd.home/home/i11/zeitz/experiments/chpot/\"\n",
    "paths = glob.glob(base + \"building_blocks/*.json\")\n",
    "data = [json.load(open(path)) for path in paths]"
   ]
  },
  {
   "cell_type": "code",
   "execution_count": 7,
   "metadata": {},
   "outputs": [],
   "source": [
    "queries = pd.DataFrame.from_records([{ \n",
    "    'features': run['feature_flags'].replace('DEFAULT, TDCCH_APPROX, TDCCH_POSTCUSTOMIZATION, TDCCH_PRECUSTOMIZATION, TDCCH_QUERY_ASTAR, TDCCH_TRIANGLE_SORTING', ''), \n",
    "    **algo } \n",
    "    for run in data for exp in run.get('experiments', []) for algo in exp['algo_runs'] if algo.get('algo') == 'CH Potentials Query'])"
   ]
  },
  {
   "cell_type": "code",
   "execution_count": 8,
   "metadata": {},
   "outputs": [
    {
     "data": {
      "text/plain": [
       "Index(['features', 'algo', 'from', 'lower_bound', 'num_pot_evals',\n",
       "       'num_queue_pops', 'num_relaxed_arcs', 'result', 'running_time_ms',\n",
       "       'to'],\n",
       "      dtype='object')"
      ]
     },
     "execution_count": 8,
     "metadata": {},
     "output_type": "execute_result"
    }
   ],
   "source": [
    "queries.columns"
   ]
  },
  {
   "cell_type": "code",
   "execution_count": 12,
   "metadata": {},
   "outputs": [
    {
     "name": "stdout",
     "output_type": "stream",
     "text": [
      "\\begin{tabular}{lrrr}\n",
      "\\toprule\n",
      "{} &  running\\_time\\_ms &  num\\_queue\\_pops &  num\\_relaxed\\_arcs \\\\\n",
      "features                                           &                  &                 &                   \\\\\n",
      "\\midrule\n",
      "                                                   &       315.702213 &      445.028300 &          2.227082 \\\\\n",
      "CHPOT\\_NO\\_DEG2, CHPOT\\_NO\\_DEG3,                      &       469.180056 &      905.298525 &          2.505806 \\\\\n",
      "CHPOT\\_NO\\_DEG2, CHPOT\\_NO\\_DEG3, CHPOT\\_NO\\_SCC,        &       547.108964 &     1006.468535 &          2.777881 \\\\\n",
      "CHPOT\\_NO\\_DEG2, CHPOT\\_NO\\_DEG3, CHPOT\\_NO\\_SCC, CHP... &      1765.856428 &     7087.019915 &         19.607343 \\\\\n",
      "CHPOT\\_NO\\_DEG2, CHPOT\\_NO\\_DEG3, CHPOT\\_ONLY\\_TOPO,     &      1308.088898 &     6249.891000 &         17.364401 \\\\\n",
      "CHPOT\\_NO\\_DEG3,                                     &       410.222530 &      767.564570 &          2.406106 \\\\\n",
      "CHPOT\\_NO\\_DEG3, CHPOT\\_ONLY\\_TOPO,                    &      1180.829687 &     5233.743180 &         16.557924 \\\\\n",
      "CHPOT\\_ONLY\\_TOPO,                                   &       901.837320 &     3035.598595 &         15.142951 \\\\\n",
      "\\bottomrule\n",
      "\\end{tabular}\n",
      "\n"
     ]
    },
    {
     "data": {
      "text/html": [
       "<div>\n",
       "<style scoped>\n",
       "    .dataframe tbody tr th:only-of-type {\n",
       "        vertical-align: middle;\n",
       "    }\n",
       "\n",
       "    .dataframe tbody tr th {\n",
       "        vertical-align: top;\n",
       "    }\n",
       "\n",
       "    .dataframe thead th {\n",
       "        text-align: right;\n",
       "    }\n",
       "</style>\n",
       "<table border=\"1\" class=\"dataframe\">\n",
       "  <thead>\n",
       "    <tr style=\"text-align: right;\">\n",
       "      <th></th>\n",
       "      <th>running_time_ms</th>\n",
       "      <th>num_queue_pops</th>\n",
       "      <th>num_relaxed_arcs</th>\n",
       "    </tr>\n",
       "    <tr>\n",
       "      <th>features</th>\n",
       "      <th></th>\n",
       "      <th></th>\n",
       "      <th></th>\n",
       "    </tr>\n",
       "  </thead>\n",
       "  <tbody>\n",
       "    <tr>\n",
       "      <th></th>\n",
       "      <td>315.702213</td>\n",
       "      <td>445.028300</td>\n",
       "      <td>2.227082</td>\n",
       "    </tr>\n",
       "    <tr>\n",
       "      <th>CHPOT_NO_DEG2, CHPOT_NO_DEG3,</th>\n",
       "      <td>469.180056</td>\n",
       "      <td>905.298525</td>\n",
       "      <td>2.505806</td>\n",
       "    </tr>\n",
       "    <tr>\n",
       "      <th>CHPOT_NO_DEG2, CHPOT_NO_DEG3, CHPOT_NO_SCC,</th>\n",
       "      <td>547.108964</td>\n",
       "      <td>1006.468535</td>\n",
       "      <td>2.777881</td>\n",
       "    </tr>\n",
       "    <tr>\n",
       "      <th>CHPOT_NO_DEG2, CHPOT_NO_DEG3, CHPOT_NO_SCC, CHPOT_ONLY_TOPO,</th>\n",
       "      <td>1765.856428</td>\n",
       "      <td>7087.019915</td>\n",
       "      <td>19.607343</td>\n",
       "    </tr>\n",
       "    <tr>\n",
       "      <th>CHPOT_NO_DEG2, CHPOT_NO_DEG3, CHPOT_ONLY_TOPO,</th>\n",
       "      <td>1308.088898</td>\n",
       "      <td>6249.891000</td>\n",
       "      <td>17.364401</td>\n",
       "    </tr>\n",
       "    <tr>\n",
       "      <th>CHPOT_NO_DEG3,</th>\n",
       "      <td>410.222530</td>\n",
       "      <td>767.564570</td>\n",
       "      <td>2.406106</td>\n",
       "    </tr>\n",
       "    <tr>\n",
       "      <th>CHPOT_NO_DEG3, CHPOT_ONLY_TOPO,</th>\n",
       "      <td>1180.829687</td>\n",
       "      <td>5233.743180</td>\n",
       "      <td>16.557924</td>\n",
       "    </tr>\n",
       "    <tr>\n",
       "      <th>CHPOT_ONLY_TOPO,</th>\n",
       "      <td>901.837320</td>\n",
       "      <td>3035.598595</td>\n",
       "      <td>15.142951</td>\n",
       "    </tr>\n",
       "  </tbody>\n",
       "</table>\n",
       "</div>"
      ],
      "text/plain": [
       "                                                    running_time_ms  \\\n",
       "features                                                              \n",
       "                                                         315.702213   \n",
       "CHPOT_NO_DEG2, CHPOT_NO_DEG3,                            469.180056   \n",
       "CHPOT_NO_DEG2, CHPOT_NO_DEG3, CHPOT_NO_SCC,              547.108964   \n",
       "CHPOT_NO_DEG2, CHPOT_NO_DEG3, CHPOT_NO_SCC, CHP...      1765.856428   \n",
       "CHPOT_NO_DEG2, CHPOT_NO_DEG3, CHPOT_ONLY_TOPO,          1308.088898   \n",
       "CHPOT_NO_DEG3,                                           410.222530   \n",
       "CHPOT_NO_DEG3, CHPOT_ONLY_TOPO,                         1180.829687   \n",
       "CHPOT_ONLY_TOPO,                                         901.837320   \n",
       "\n",
       "                                                    num_queue_pops  \\\n",
       "features                                                             \n",
       "                                                        445.028300   \n",
       "CHPOT_NO_DEG2, CHPOT_NO_DEG3,                           905.298525   \n",
       "CHPOT_NO_DEG2, CHPOT_NO_DEG3, CHPOT_NO_SCC,            1006.468535   \n",
       "CHPOT_NO_DEG2, CHPOT_NO_DEG3, CHPOT_NO_SCC, CHP...     7087.019915   \n",
       "CHPOT_NO_DEG2, CHPOT_NO_DEG3, CHPOT_ONLY_TOPO,         6249.891000   \n",
       "CHPOT_NO_DEG3,                                          767.564570   \n",
       "CHPOT_NO_DEG3, CHPOT_ONLY_TOPO,                        5233.743180   \n",
       "CHPOT_ONLY_TOPO,                                       3035.598595   \n",
       "\n",
       "                                                    num_relaxed_arcs  \n",
       "features                                                              \n",
       "                                                            2.227082  \n",
       "CHPOT_NO_DEG2, CHPOT_NO_DEG3,                               2.505806  \n",
       "CHPOT_NO_DEG2, CHPOT_NO_DEG3, CHPOT_NO_SCC,                 2.777881  \n",
       "CHPOT_NO_DEG2, CHPOT_NO_DEG3, CHPOT_NO_SCC, CHP...         19.607343  \n",
       "CHPOT_NO_DEG2, CHPOT_NO_DEG3, CHPOT_ONLY_TOPO,             17.364401  \n",
       "CHPOT_NO_DEG3,                                              2.406106  \n",
       "CHPOT_NO_DEG3, CHPOT_ONLY_TOPO,                            16.557924  \n",
       "CHPOT_ONLY_TOPO,                                           15.142951  "
      ]
     },
     "execution_count": 12,
     "metadata": {},
     "output_type": "execute_result"
    }
   ],
   "source": [
    "table = queries.groupby('features')[['running_time_ms', 'num_queue_pops', 'num_relaxed_arcs']].mean()\n",
    "table['num_relaxed_arcs'] = table['num_relaxed_arcs'] / 1000000\n",
    "table['num_queue_pops'] = table['num_queue_pops'] / 1000\n",
    "print(table.to_latex())\n",
    "table"
   ]
  }
 ],
 "metadata": {
  "kernelspec": {
   "display_name": "Python 3",
   "language": "python",
   "name": "python3"
  },
  "language_info": {
   "codemirror_mode": {
    "name": "ipython",
    "version": 3
   },
   "file_extension": ".py",
   "mimetype": "text/x-python",
   "name": "python",
   "nbconvert_exporter": "python",
   "pygments_lexer": "ipython3",
   "version": "3.8.2"
  }
 },
 "nbformat": 4,
 "nbformat_minor": 4
}
